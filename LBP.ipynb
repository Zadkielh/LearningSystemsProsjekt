{
 "cells": [
  {
   "cell_type": "code",
   "execution_count": 1,
   "id": "257115b6-8cb3-435d-b535-83b70fdf60a3",
   "metadata": {},
   "outputs": [
    {
     "name": "stderr",
     "output_type": "stream",
     "text": [
      "2023-11-30 14:22:07.836411: E external/local_xla/xla/stream_executor/cuda/cuda_dnn.cc:9261] Unable to register cuDNN factory: Attempting to register factory for plugin cuDNN when one has already been registered\n",
      "2023-11-30 14:22:07.836485: E external/local_xla/xla/stream_executor/cuda/cuda_fft.cc:607] Unable to register cuFFT factory: Attempting to register factory for plugin cuFFT when one has already been registered\n",
      "2023-11-30 14:22:07.838112: E external/local_xla/xla/stream_executor/cuda/cuda_blas.cc:1515] Unable to register cuBLAS factory: Attempting to register factory for plugin cuBLAS when one has already been registered\n",
      "2023-11-30 14:22:07.850299: I tensorflow/core/platform/cpu_feature_guard.cc:182] This TensorFlow binary is optimized to use available CPU instructions in performance-critical operations.\n",
      "To enable the following instructions: AVX2 AVX512F FMA, in other operations, rebuild TensorFlow with the appropriate compiler flags.\n"
     ]
    },
    {
     "name": "stdout",
     "output_type": "stream",
     "text": [
      "2023-11-30 14:22:08,673 - tensorflow - DEBUG - Falling back to TensorFlow client; we recommended you install the Cloud TPU client directly with pip install cloud-tpu-client.\n",
      "2023-11-30 14:22:08,863 - h5py._conv - DEBUG - Creating converter from 7 to 5\n",
      "2023-11-30 14:22:08,864 - h5py._conv - DEBUG - Creating converter from 5 to 7\n",
      "2023-11-30 14:22:08,865 - h5py._conv - DEBUG - Creating converter from 7 to 5\n",
      "2023-11-30 14:22:08,865 - h5py._conv - DEBUG - Creating converter from 5 to 7\n"
     ]
    },
    {
     "name": "stderr",
     "output_type": "stream",
     "text": [
      "2023-11-30 14:22:08.801529: W tensorflow/compiler/tf2tensorrt/utils/py_utils.cc:38] TF-TRT Warning: Could not find TensorRT\n"
     ]
    },
    {
     "name": "stdout",
     "output_type": "stream",
     "text": [
      "2023-11-30 14:22:09,445 - numexpr.utils - INFO - Note: detected 96 virtual cores but NumExpr set to maximum of 64, check \"NUMEXPR_MAX_THREADS\" environment variable.\n",
      "2023-11-30 14:22:09,446 - numexpr.utils - INFO - Note: NumExpr detected 96 cores but \"NUMEXPR_MAX_THREADS\" not set, so enforcing safe limit of 8.\n",
      "2023-11-30 14:22:09,447 - numexpr.utils - INFO - NumExpr defaulting to 8 threads.\n"
     ]
    }
   ],
   "source": [
    "# Import necessary libraries\n",
    "import argparse\n",
    "from tmu.preprocessing.standard_binarizer.binarizer import StandardBinarizer\n",
    "import numpy as np\n",
    "import cv2\n",
    "from skimage.feature import local_binary_pattern\n",
    "from keras.datasets import cifar10\n",
    "from tmu.models.classification.vanilla_classifier import TMClassifier\n",
    "from time import time\n",
    "\n",
    "# Load CIFAR-10 dataset\n",
    "(X_train_org, Y_train), (X_test_org, Y_test) = cifar10.load_data()\n"
   ]
  },
  {
   "cell_type": "code",
   "execution_count": 2,
   "id": "c5c58ec6-5d48-4534-8996-2e68322b5781",
   "metadata": {
    "editable": true,
    "slideshow": {
     "slide_type": ""
    },
    "tags": []
   },
   "outputs": [],
   "source": [
    "# Copy the datasets\n",
    "X_train = np.copy(X_train_org)\n",
    "X_test = np.copy(X_test_org)\n",
    "\n",
    "# Reshape labels\n",
    "Y_train = Y_train.reshape(Y_train.shape[0])\n",
    "Y_test = Y_test.reshape(Y_test.shape[0])\n",
    "\n",
    "# Apply Local Binary Pattern and binarize images\n",
    "for i in range(X_train.shape[0]):\n",
    "    for j in range(X_train.shape[3]):\n",
    "        lbp = local_binary_pattern(X_train[i, :, :, j], P=8, R=2, method=\"uniform\")\n",
    "        X_train[i, :, :, j] = np.where(lbp < np.mean(lbp), 0, 1)\n",
    "\n",
    "for i in range(X_test.shape[0]):\n",
    "    for j in range(X_test.shape[3]):\n",
    "        lbp = local_binary_pattern(X_test[i, :, :, j], P=8, R=2, method=\"uniform\")\n",
    "        X_test[i, :, :, j] = np.where(lbp < np.mean(lbp), 0, 1)\n"
   ]
  },
  {
   "cell_type": "code",
   "execution_count": 3,
   "id": "8b5b21e9-b6f0-498d-aee0-03acf9dc148f",
   "metadata": {
    "editable": true,
    "slideshow": {
     "slide_type": ""
    },
    "tags": []
   },
   "outputs": [
    {
     "name": "stdout",
     "output_type": "stream",
     "text": [
      "2023-11-30 14:22:48,161 - tmu.clause_bank.clause_bank_cuda - INFO - Loading compiled CUDA module from '/tmp/tm_kernels/64ad9a98c2545560a4dc31bd3a8dd0db9a262c49.ptx'.\n",
      "2023-11-30 14:22:48,164 - tmu.clause_bank.clause_bank_cuda - INFO - Loading compiled CUDA module from '/tmp/tm_kernels/13fc2c8820318bc333016418ed940d81b88b1141.ptx'.\n",
      "2023-11-30 14:22:48,166 - tmu.clause_bank.clause_bank_cuda - INFO - Loading compiled CUDA module from '/tmp/tm_kernels/5e60a7bb0bce1763c74eb0e200eea1e1b001d05e.ptx'.\n",
      "2023-11-30 14:22:48,168 - tmu.clause_bank.clause_bank_cuda - INFO - Loading compiled CUDA module from '/tmp/tm_kernels/26b1d638292d278547515d52dcd4750656fa6a05.ptx'.\n",
      "2023-11-30 14:22:48,419 - tmu.clause_bank.clause_bank_cuda - INFO - Loading compiled CUDA module from '/tmp/tm_kernels/64ad9a98c2545560a4dc31bd3a8dd0db9a262c49.ptx'.\n",
      "2023-11-30 14:22:48,421 - tmu.clause_bank.clause_bank_cuda - INFO - Loading compiled CUDA module from '/tmp/tm_kernels/13fc2c8820318bc333016418ed940d81b88b1141.ptx'.\n",
      "2023-11-30 14:22:48,423 - tmu.clause_bank.clause_bank_cuda - INFO - Loading compiled CUDA module from '/tmp/tm_kernels/5e60a7bb0bce1763c74eb0e200eea1e1b001d05e.ptx'.\n",
      "2023-11-30 14:22:48,425 - tmu.clause_bank.clause_bank_cuda - INFO - Loading compiled CUDA module from '/tmp/tm_kernels/26b1d638292d278547515d52dcd4750656fa6a05.ptx'.\n",
      "2023-11-30 14:22:48,644 - tmu.clause_bank.clause_bank_cuda - INFO - Loading compiled CUDA module from '/tmp/tm_kernels/64ad9a98c2545560a4dc31bd3a8dd0db9a262c49.ptx'.\n",
      "2023-11-30 14:22:48,647 - tmu.clause_bank.clause_bank_cuda - INFO - Loading compiled CUDA module from '/tmp/tm_kernels/13fc2c8820318bc333016418ed940d81b88b1141.ptx'.\n",
      "2023-11-30 14:22:48,649 - tmu.clause_bank.clause_bank_cuda - INFO - Loading compiled CUDA module from '/tmp/tm_kernels/5e60a7bb0bce1763c74eb0e200eea1e1b001d05e.ptx'.\n",
      "2023-11-30 14:22:48,652 - tmu.clause_bank.clause_bank_cuda - INFO - Loading compiled CUDA module from '/tmp/tm_kernels/26b1d638292d278547515d52dcd4750656fa6a05.ptx'.\n",
      "2023-11-30 14:22:48,894 - tmu.clause_bank.clause_bank_cuda - INFO - Loading compiled CUDA module from '/tmp/tm_kernels/64ad9a98c2545560a4dc31bd3a8dd0db9a262c49.ptx'.\n",
      "2023-11-30 14:22:48,897 - tmu.clause_bank.clause_bank_cuda - INFO - Loading compiled CUDA module from '/tmp/tm_kernels/13fc2c8820318bc333016418ed940d81b88b1141.ptx'.\n",
      "2023-11-30 14:22:48,899 - tmu.clause_bank.clause_bank_cuda - INFO - Loading compiled CUDA module from '/tmp/tm_kernels/5e60a7bb0bce1763c74eb0e200eea1e1b001d05e.ptx'.\n",
      "2023-11-30 14:22:48,901 - tmu.clause_bank.clause_bank_cuda - INFO - Loading compiled CUDA module from '/tmp/tm_kernels/26b1d638292d278547515d52dcd4750656fa6a05.ptx'.\n",
      "2023-11-30 14:22:49,131 - tmu.clause_bank.clause_bank_cuda - INFO - Loading compiled CUDA module from '/tmp/tm_kernels/64ad9a98c2545560a4dc31bd3a8dd0db9a262c49.ptx'.\n",
      "2023-11-30 14:22:49,133 - tmu.clause_bank.clause_bank_cuda - INFO - Loading compiled CUDA module from '/tmp/tm_kernels/13fc2c8820318bc333016418ed940d81b88b1141.ptx'.\n",
      "2023-11-30 14:22:49,134 - tmu.clause_bank.clause_bank_cuda - INFO - Loading compiled CUDA module from '/tmp/tm_kernels/5e60a7bb0bce1763c74eb0e200eea1e1b001d05e.ptx'.\n",
      "2023-11-30 14:22:49,137 - tmu.clause_bank.clause_bank_cuda - INFO - Loading compiled CUDA module from '/tmp/tm_kernels/26b1d638292d278547515d52dcd4750656fa6a05.ptx'.\n",
      "2023-11-30 14:22:49,381 - tmu.clause_bank.clause_bank_cuda - INFO - Loading compiled CUDA module from '/tmp/tm_kernels/64ad9a98c2545560a4dc31bd3a8dd0db9a262c49.ptx'.\n",
      "2023-11-30 14:22:49,385 - tmu.clause_bank.clause_bank_cuda - INFO - Loading compiled CUDA module from '/tmp/tm_kernels/13fc2c8820318bc333016418ed940d81b88b1141.ptx'.\n",
      "2023-11-30 14:22:49,386 - tmu.clause_bank.clause_bank_cuda - INFO - Loading compiled CUDA module from '/tmp/tm_kernels/5e60a7bb0bce1763c74eb0e200eea1e1b001d05e.ptx'.\n",
      "2023-11-30 14:22:49,391 - tmu.clause_bank.clause_bank_cuda - INFO - Loading compiled CUDA module from '/tmp/tm_kernels/26b1d638292d278547515d52dcd4750656fa6a05.ptx'.\n",
      "2023-11-30 14:22:49,621 - tmu.clause_bank.clause_bank_cuda - INFO - Loading compiled CUDA module from '/tmp/tm_kernels/64ad9a98c2545560a4dc31bd3a8dd0db9a262c49.ptx'.\n",
      "2023-11-30 14:22:49,623 - tmu.clause_bank.clause_bank_cuda - INFO - Loading compiled CUDA module from '/tmp/tm_kernels/13fc2c8820318bc333016418ed940d81b88b1141.ptx'.\n",
      "2023-11-30 14:22:49,625 - tmu.clause_bank.clause_bank_cuda - INFO - Loading compiled CUDA module from '/tmp/tm_kernels/5e60a7bb0bce1763c74eb0e200eea1e1b001d05e.ptx'.\n",
      "2023-11-30 14:22:49,628 - tmu.clause_bank.clause_bank_cuda - INFO - Loading compiled CUDA module from '/tmp/tm_kernels/26b1d638292d278547515d52dcd4750656fa6a05.ptx'.\n",
      "2023-11-30 14:22:49,859 - tmu.clause_bank.clause_bank_cuda - INFO - Loading compiled CUDA module from '/tmp/tm_kernels/64ad9a98c2545560a4dc31bd3a8dd0db9a262c49.ptx'.\n",
      "2023-11-30 14:22:49,862 - tmu.clause_bank.clause_bank_cuda - INFO - Loading compiled CUDA module from '/tmp/tm_kernels/13fc2c8820318bc333016418ed940d81b88b1141.ptx'.\n",
      "2023-11-30 14:22:49,864 - tmu.clause_bank.clause_bank_cuda - INFO - Loading compiled CUDA module from '/tmp/tm_kernels/5e60a7bb0bce1763c74eb0e200eea1e1b001d05e.ptx'.\n",
      "2023-11-30 14:22:49,874 - tmu.clause_bank.clause_bank_cuda - INFO - Loading compiled CUDA module from '/tmp/tm_kernels/26b1d638292d278547515d52dcd4750656fa6a05.ptx'.\n",
      "2023-11-30 14:22:50,117 - tmu.clause_bank.clause_bank_cuda - INFO - Loading compiled CUDA module from '/tmp/tm_kernels/64ad9a98c2545560a4dc31bd3a8dd0db9a262c49.ptx'.\n",
      "2023-11-30 14:22:50,120 - tmu.clause_bank.clause_bank_cuda - INFO - Loading compiled CUDA module from '/tmp/tm_kernels/13fc2c8820318bc333016418ed940d81b88b1141.ptx'.\n",
      "2023-11-30 14:22:50,122 - tmu.clause_bank.clause_bank_cuda - INFO - Loading compiled CUDA module from '/tmp/tm_kernels/5e60a7bb0bce1763c74eb0e200eea1e1b001d05e.ptx'.\n",
      "2023-11-30 14:22:50,124 - tmu.clause_bank.clause_bank_cuda - INFO - Loading compiled CUDA module from '/tmp/tm_kernels/26b1d638292d278547515d52dcd4750656fa6a05.ptx'.\n",
      "2023-11-30 14:22:50,354 - tmu.clause_bank.clause_bank_cuda - INFO - Loading compiled CUDA module from '/tmp/tm_kernels/64ad9a98c2545560a4dc31bd3a8dd0db9a262c49.ptx'.\n",
      "2023-11-30 14:22:50,356 - tmu.clause_bank.clause_bank_cuda - INFO - Loading compiled CUDA module from '/tmp/tm_kernels/13fc2c8820318bc333016418ed940d81b88b1141.ptx'.\n",
      "2023-11-30 14:22:50,358 - tmu.clause_bank.clause_bank_cuda - INFO - Loading compiled CUDA module from '/tmp/tm_kernels/5e60a7bb0bce1763c74eb0e200eea1e1b001d05e.ptx'.\n",
      "2023-11-30 14:22:50,361 - tmu.clause_bank.clause_bank_cuda - INFO - Loading compiled CUDA module from '/tmp/tm_kernels/26b1d638292d278547515d52dcd4750656fa6a05.ptx'.\n",
      "Epoch 1 - Accuracy: 35.51% - Training Time: 215.40s - Testing Time: 66.25s\n",
      "Epoch 2 - Accuracy: 38.80% - Training Time: 194.40s - Testing Time: 65.32s\n",
      "Epoch 3 - Accuracy: 40.32% - Training Time: 187.83s - Testing Time: 65.55s\n",
      "Epoch 4 - Accuracy: 40.47% - Training Time: 182.69s - Testing Time: 65.65s\n",
      "Epoch 5 - Accuracy: 40.80% - Training Time: 179.98s - Testing Time: 65.55s\n",
      "Epoch 6 - Accuracy: 40.62% - Training Time: 177.39s - Testing Time: 65.51s\n",
      "Epoch 7 - Accuracy: 41.30% - Training Time: 173.99s - Testing Time: 65.54s\n",
      "Epoch 8 - Accuracy: 41.00% - Training Time: 172.36s - Testing Time: 65.47s\n"
     ]
    },
    {
     "ename": "KeyboardInterrupt",
     "evalue": "",
     "output_type": "error",
     "traceback": [
      "\u001b[0;31m---------------------------------------------------------------------------\u001b[0m",
      "\u001b[0;31mKeyboardInterrupt\u001b[0m                         Traceback (most recent call last)",
      "Cell \u001b[0;32mIn[3], line 38\u001b[0m\n\u001b[1;32m     35\u001b[0m start_training \u001b[38;5;241m=\u001b[39m time()\n\u001b[1;32m     37\u001b[0m \u001b[38;5;28;01mfor\u001b[39;00m X_batch, Y_batch \u001b[38;5;129;01min\u001b[39;00m get_batches(X_train, Y_train, batch_size):\n\u001b[0;32m---> 38\u001b[0m     \u001b[43mtm\u001b[49m\u001b[38;5;241;43m.\u001b[39;49m\u001b[43mfit\u001b[49m\u001b[43m(\u001b[49m\u001b[43mX_batch\u001b[49m\u001b[43m,\u001b[49m\u001b[43m \u001b[49m\u001b[43mY_batch\u001b[49m\u001b[43m)\u001b[49m\n\u001b[1;32m     40\u001b[0m stop_training \u001b[38;5;241m=\u001b[39m time()\n\u001b[1;32m     42\u001b[0m \u001b[38;5;66;03m# Evaluate the TM Classifier\u001b[39;00m\n",
      "File \u001b[0;32m/opt/conda/lib/python3.11/site-packages/tmu/models/classification/vanilla_classifier.py:399\u001b[0m, in \u001b[0;36mTMClassifier.fit\u001b[0;34m(self, X, Y, shuffle, metrics, *args, **kwargs)\u001b[0m\n\u001b[1;32m    396\u001b[0m target: \u001b[38;5;28mint\u001b[39m \u001b[38;5;241m=\u001b[39m Ym[sample_idx]\n\u001b[1;32m    397\u001b[0m not_target: \u001b[38;5;28mint\u001b[39m \u001b[38;5;241m=\u001b[39m \u001b[38;5;28mself\u001b[39m\u001b[38;5;241m.\u001b[39mweight_banks\u001b[38;5;241m.\u001b[39msample(exclude\u001b[38;5;241m=\u001b[39m[target])\n\u001b[0;32m--> 399\u001b[0m history: \u001b[38;5;28mdict\u001b[39m \u001b[38;5;241m=\u001b[39m \u001b[38;5;28;43mself\u001b[39;49m\u001b[38;5;241;43m.\u001b[39;49m\u001b[43m_fit_sample\u001b[49m\u001b[43m(\u001b[49m\n\u001b[1;32m    400\u001b[0m \u001b[43m    \u001b[49m\u001b[43mtarget\u001b[49m\u001b[38;5;241;43m=\u001b[39;49m\u001b[43mtarget\u001b[49m\u001b[43m,\u001b[49m\n\u001b[1;32m    401\u001b[0m \u001b[43m    \u001b[49m\u001b[43mnot_target\u001b[49m\u001b[38;5;241;43m=\u001b[39;49m\u001b[43mnot_target\u001b[49m\u001b[43m,\u001b[49m\n\u001b[1;32m    402\u001b[0m \u001b[43m    \u001b[49m\u001b[43msample_idx\u001b[49m\u001b[38;5;241;43m=\u001b[39;49m\u001b[43msample_idx\u001b[49m\u001b[43m,\u001b[49m\n\u001b[1;32m    403\u001b[0m \u001b[43m    \u001b[49m\u001b[43mclause_active\u001b[49m\u001b[38;5;241;43m=\u001b[39;49m\u001b[43mclause_active\u001b[49m\u001b[43m,\u001b[49m\n\u001b[1;32m    404\u001b[0m \u001b[43m    \u001b[49m\u001b[43mliteral_active\u001b[49m\u001b[38;5;241;43m=\u001b[39;49m\u001b[43mliteral_active\u001b[49m\u001b[43m,\u001b[49m\n\u001b[1;32m    405\u001b[0m \u001b[43m    \u001b[49m\u001b[43mencoded_X_train\u001b[49m\u001b[38;5;241;43m=\u001b[39;49m\u001b[43mencoded_X_train\u001b[49m\n\u001b[1;32m    406\u001b[0m \u001b[43m\u001b[49m\u001b[43m)\u001b[49m\n\u001b[1;32m    408\u001b[0m \u001b[38;5;28;01mif\u001b[39;00m \u001b[38;5;124m\"\u001b[39m\u001b[38;5;124mupdate_p\u001b[39m\u001b[38;5;124m\"\u001b[39m \u001b[38;5;129;01min\u001b[39;00m metrics:\n\u001b[1;32m    409\u001b[0m     \u001b[38;5;28mself\u001b[39m\u001b[38;5;241m.\u001b[39mmetrics\u001b[38;5;241m.\u001b[39madd_scalar(group\u001b[38;5;241m=\u001b[39m\u001b[38;5;124m\"\u001b[39m\u001b[38;5;124mupdate_p\u001b[39m\u001b[38;5;124m\"\u001b[39m, key\u001b[38;5;241m=\u001b[39mtarget, value\u001b[38;5;241m=\u001b[39mhistory[\u001b[38;5;124m\"\u001b[39m\u001b[38;5;124mupdate_p_target\u001b[39m\u001b[38;5;124m\"\u001b[39m])\n",
      "File \u001b[0;32m/opt/conda/lib/python3.11/site-packages/tmu/models/classification/vanilla_classifier.py:340\u001b[0m, in \u001b[0;36mTMClassifier._fit_sample\u001b[0;34m(self, target, not_target, sample_idx, clause_active, literal_active, encoded_X_train)\u001b[0m\n\u001b[1;32m    334\u001b[0m \u001b[38;5;28;01mif\u001b[39;00m \u001b[38;5;28mself\u001b[39m\u001b[38;5;241m.\u001b[39mweight_banks\u001b[38;5;241m.\u001b[39mn_classes \u001b[38;5;241m==\u001b[39m \u001b[38;5;241m1\u001b[39m:\n\u001b[1;32m    335\u001b[0m     \u001b[38;5;28;01mreturn\u001b[39;00m \u001b[38;5;28mdict\u001b[39m(\n\u001b[1;32m    336\u001b[0m         update_p_target\u001b[38;5;241m=\u001b[39mupdate_p_target,\n\u001b[1;32m    337\u001b[0m         update_p_not_target\u001b[38;5;241m=\u001b[39m\u001b[38;5;28;01mNone\u001b[39;00m\n\u001b[1;32m    338\u001b[0m     )\n\u001b[0;32m--> 340\u001b[0m class_sum_not, clause_outputs_not \u001b[38;5;241m=\u001b[39m \u001b[38;5;28;43mself\u001b[39;49m\u001b[38;5;241;43m.\u001b[39;49m\u001b[43mmechanism_clause_sum\u001b[49m\u001b[43m(\u001b[49m\n\u001b[1;32m    341\u001b[0m \u001b[43m    \u001b[49m\u001b[43mtarget\u001b[49m\u001b[38;5;241;43m=\u001b[39;49m\u001b[43mnot_target\u001b[49m\u001b[43m,\u001b[49m\n\u001b[1;32m    342\u001b[0m \u001b[43m    \u001b[49m\u001b[43mclause_active\u001b[49m\u001b[38;5;241;43m=\u001b[39;49m\u001b[43mclause_active\u001b[49m\u001b[43m,\u001b[49m\n\u001b[1;32m    343\u001b[0m \u001b[43m    \u001b[49m\u001b[43mliteral_active\u001b[49m\u001b[38;5;241;43m=\u001b[39;49m\u001b[43mliteral_active\u001b[49m\u001b[43m,\u001b[49m\n\u001b[1;32m    344\u001b[0m \u001b[43m    \u001b[49m\u001b[43mencoded_X_train\u001b[49m\u001b[38;5;241;43m=\u001b[39;49m\u001b[43mencoded_X_train\u001b[49m\u001b[43m,\u001b[49m\n\u001b[1;32m    345\u001b[0m \u001b[43m    \u001b[49m\u001b[43msample_idx\u001b[49m\u001b[38;5;241;43m=\u001b[39;49m\u001b[43msample_idx\u001b[49m\n\u001b[1;32m    346\u001b[0m \u001b[43m\u001b[49m\u001b[43m)\u001b[49m\n\u001b[1;32m    348\u001b[0m update_p_not_target: \u001b[38;5;28mfloat\u001b[39m \u001b[38;5;241m=\u001b[39m \u001b[38;5;28mself\u001b[39m\u001b[38;5;241m.\u001b[39m_fit_sample_target(\n\u001b[1;32m    349\u001b[0m     class_sum\u001b[38;5;241m=\u001b[39mclass_sum_not,\n\u001b[1;32m    350\u001b[0m     clause_outputs\u001b[38;5;241m=\u001b[39mclause_outputs_not,\n\u001b[0;32m   (...)\u001b[0m\n\u001b[1;32m    356\u001b[0m     encoded_X_train\u001b[38;5;241m=\u001b[39mencoded_X_train\n\u001b[1;32m    357\u001b[0m )\n\u001b[1;32m    359\u001b[0m \u001b[38;5;28;01mreturn\u001b[39;00m \u001b[38;5;28mdict\u001b[39m(\n\u001b[1;32m    360\u001b[0m     update_p_not_target\u001b[38;5;241m=\u001b[39mupdate_p_not_target,\n\u001b[1;32m    361\u001b[0m     update_p_target\u001b[38;5;241m=\u001b[39mupdate_p_target\n\u001b[1;32m    362\u001b[0m )\n",
      "File \u001b[0;32m/opt/conda/lib/python3.11/site-packages/tmu/models/classification/vanilla_classifier.py:210\u001b[0m, in \u001b[0;36mTMClassifier.mechanism_clause_sum\u001b[0;34m(self, target, clause_active, literal_active, encoded_X_train, sample_idx)\u001b[0m\n\u001b[1;32m    201\u001b[0m \u001b[38;5;28;01mdef\u001b[39;00m \u001b[38;5;21mmechanism_clause_sum\u001b[39m(\n\u001b[1;32m    202\u001b[0m         \u001b[38;5;28mself\u001b[39m,\n\u001b[1;32m    203\u001b[0m         target: \u001b[38;5;28mint\u001b[39m,\n\u001b[0;32m   (...)\u001b[0m\n\u001b[1;32m    207\u001b[0m         sample_idx: \u001b[38;5;28mint\u001b[39m\n\u001b[1;32m    208\u001b[0m ) \u001b[38;5;241m-\u001b[39m\u001b[38;5;241m>\u001b[39m typing\u001b[38;5;241m.\u001b[39mTuple[np\u001b[38;5;241m.\u001b[39mndarray, np\u001b[38;5;241m.\u001b[39mndarray]:\n\u001b[0;32m--> 210\u001b[0m     clause_outputs: np\u001b[38;5;241m.\u001b[39mndarray \u001b[38;5;241m=\u001b[39m \u001b[38;5;28;43mself\u001b[39;49m\u001b[38;5;241;43m.\u001b[39;49m\u001b[43mclause_banks\u001b[49m\u001b[43m[\u001b[49m\u001b[43mtarget\u001b[49m\u001b[43m]\u001b[49m\u001b[38;5;241;43m.\u001b[39;49m\u001b[43mcalculate_clause_outputs_update\u001b[49m\u001b[43m(\u001b[49m\n\u001b[1;32m    211\u001b[0m \u001b[43m        \u001b[49m\u001b[43mliteral_active\u001b[49m\u001b[38;5;241;43m=\u001b[39;49m\u001b[43mliteral_active\u001b[49m\u001b[43m,\u001b[49m\n\u001b[1;32m    212\u001b[0m \u001b[43m        \u001b[49m\u001b[43mencoded_X\u001b[49m\u001b[38;5;241;43m=\u001b[39;49m\u001b[43mencoded_X_train\u001b[49m\u001b[43m,\u001b[49m\n\u001b[1;32m    213\u001b[0m \u001b[43m        \u001b[49m\u001b[43me\u001b[49m\u001b[38;5;241;43m=\u001b[39;49m\u001b[43msample_idx\u001b[49m\n\u001b[1;32m    214\u001b[0m \u001b[43m    \u001b[49m\u001b[43m)\u001b[49m\n\u001b[1;32m    216\u001b[0m     class_sum: np\u001b[38;5;241m.\u001b[39mndarray \u001b[38;5;241m=\u001b[39m np\u001b[38;5;241m.\u001b[39mdot(\n\u001b[1;32m    217\u001b[0m         clause_active[target] \u001b[38;5;241m*\u001b[39m \u001b[38;5;28mself\u001b[39m\u001b[38;5;241m.\u001b[39mweight_banks[target]\u001b[38;5;241m.\u001b[39mget_weights(),\n\u001b[1;32m    218\u001b[0m         clause_outputs\n\u001b[1;32m    219\u001b[0m     )\u001b[38;5;241m.\u001b[39mastype(np\u001b[38;5;241m.\u001b[39mint32)\n\u001b[1;32m    221\u001b[0m     class_sum: np\u001b[38;5;241m.\u001b[39mndarray \u001b[38;5;241m=\u001b[39m np\u001b[38;5;241m.\u001b[39mclip(class_sum, \u001b[38;5;241m-\u001b[39m\u001b[38;5;28mself\u001b[39m\u001b[38;5;241m.\u001b[39mT, \u001b[38;5;28mself\u001b[39m\u001b[38;5;241m.\u001b[39mT)\n",
      "File \u001b[0;32m/opt/conda/lib/python3.11/site-packages/tmu/clause_bank/clause_bank_cuda.py:217\u001b[0m, in \u001b[0;36mImplClauseBankCUDA.calculate_clause_outputs_update\u001b[0;34m(self, literal_active, encoded_X, e)\u001b[0m\n\u001b[1;32m    202\u001b[0m \u001b[38;5;28mself\u001b[39m\u001b[38;5;241m.\u001b[39m_profiler\u001b[38;5;241m.\u001b[39mprofile(cuda\u001b[38;5;241m.\u001b[39mmemcpy_htod, \u001b[38;5;28mself\u001b[39m\u001b[38;5;241m.\u001b[39mliteral_active_gpu, literal_active)\n\u001b[1;32m    204\u001b[0m \u001b[38;5;28mself\u001b[39m\u001b[38;5;241m.\u001b[39mcalculate_clause_outputs_update_gpu\u001b[38;5;241m.\u001b[39mprepared_call(\n\u001b[1;32m    205\u001b[0m     \u001b[38;5;28mself\u001b[39m\u001b[38;5;241m.\u001b[39mgrid,\n\u001b[1;32m    206\u001b[0m     \u001b[38;5;28mself\u001b[39m\u001b[38;5;241m.\u001b[39mblock,\n\u001b[0;32m   (...)\u001b[0m\n\u001b[1;32m    214\u001b[0m     np\u001b[38;5;241m.\u001b[39mint32(e)\n\u001b[1;32m    215\u001b[0m )\n\u001b[0;32m--> 217\u001b[0m \u001b[38;5;28;43mself\u001b[39;49m\u001b[38;5;241;43m.\u001b[39;49m\u001b[43mcuda_ctx\u001b[49m\u001b[38;5;241;43m.\u001b[39;49m\u001b[43msynchronize\u001b[49m\u001b[43m(\u001b[49m\u001b[43m)\u001b[49m\n\u001b[1;32m    218\u001b[0m \u001b[38;5;28mself\u001b[39m\u001b[38;5;241m.\u001b[39m_profiler\u001b[38;5;241m.\u001b[39mprofile(cuda\u001b[38;5;241m.\u001b[39mmemcpy_dtoh, \u001b[38;5;28mself\u001b[39m\u001b[38;5;241m.\u001b[39mclause_output, \u001b[38;5;28mself\u001b[39m\u001b[38;5;241m.\u001b[39mclause_output_gpu)\n\u001b[1;32m    219\u001b[0m \u001b[38;5;28;01mreturn\u001b[39;00m \u001b[38;5;28mself\u001b[39m\u001b[38;5;241m.\u001b[39mclause_output\n",
      "\u001b[0;31mKeyboardInterrupt\u001b[0m: "
     ]
    }
   ],
   "source": [
    "# Other parameters\n",
    "T = 600\n",
    "s = 4.0\n",
    "num_clauses = 2000\n",
    "max_included_literals = 32\n",
    "device = \"GPU\"\n",
    "weighted_clauses = True\n",
    "epochs = 100\n",
    "patch_size = 7\n",
    "type_i_ii_ratio = 1.0\n",
    "\n",
    "# Initialize TM Classifier with the chosen set of hyperparameters\n",
    "tm = TMClassifier(\n",
    "    number_of_clauses=num_clauses,\n",
    "    T=T,\n",
    "    s=s,\n",
    "    max_included_literals=max_included_literals,\n",
    "    platform=device,\n",
    "    weighted_clauses=weighted_clauses,\n",
    "    type_i_ii_ratio=type_i_ii_ratio,\n",
    "    patch_dim=(patch_size, patch_size)\n",
    ")\n",
    "\n",
    "# Define the batch size\n",
    "batch_size = 64  # Adjust based on your system's capabilities\n",
    "\n",
    "# Function to yield batches from the dataset\n",
    "def get_batches(X, Y, batch_size):\n",
    "    for start in range(0, len(X), batch_size):\n",
    "        end = start + batch_size\n",
    "        yield X[start:end], Y[start:end]\n",
    "\n",
    "# Train the TM Classifier with batch processing\n",
    "for epoch in range(epochs):\n",
    "    start_training = time()\n",
    "    \n",
    "    for X_batch, Y_batch in get_batches(X_train, Y_train, batch_size):\n",
    "        tm.fit(X_batch, Y_batch)\n",
    "    \n",
    "    stop_training = time()\n",
    "\n",
    "    # Evaluate the TM Classifier\n",
    "    start_testing = time()\n",
    "    Y_test_predicted, Y_test_scores = tm.predict(X_test, return_class_sums=True)\n",
    "    stop_testing = time()\n",
    "    result_test = 100 * (Y_test_scores.argmax(axis=1) == Y_test).mean()\n",
    "\n",
    "    # Print accuracy for the current epoch\n",
    "    print(f\"Epoch {epoch+1} - Accuracy: {result_test:.2f}% - Training Time: {stop_training - start_training:.2f}s - Testing Time: {stop_testing - start_testing:.2f}s\")\n",
    "    np.savetxt(\"CIFAR10LBP_%d_%d_%d_%.1f_%d_%d_%d.txt\" % (epoch+1, num_clauses, T, s, patch_size, max_included_literals, weighted_clauses), Y_test_scores, delimiter=',')\n"
   ]
  }
 ],
 "metadata": {
  "kernelspec": {
   "display_name": "Python 3 (ipykernel)",
   "language": "python",
   "name": "python3"
  },
  "language_info": {
   "codemirror_mode": {
    "name": "ipython",
    "version": 3
   },
   "file_extension": ".py",
   "mimetype": "text/x-python",
   "name": "python",
   "nbconvert_exporter": "python",
   "pygments_lexer": "ipython3",
   "version": "3.11.6"
  }
 },
 "nbformat": 4,
 "nbformat_minor": 5
}
